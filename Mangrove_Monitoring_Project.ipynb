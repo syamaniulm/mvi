{
 "cells": [
  {
   "cell_type": "markdown",
   "id": "ec834749-5852-4730-8c8b-aa2cde2ca56b",
   "metadata": {},
   "source": [
    "**Mangrove monitoring using multitemporal Sentinel-2 SR and Mangrove Vegetation Index**"
   ]
  },
  {
   "cell_type": "code",
   "execution_count": null,
   "id": "68c83644-c6a7-4aa2-98b8-796583a728c5",
   "metadata": {},
   "outputs": [],
   "source": [
    "\"\"\"\n",
    "Mangrove Vegetation Index (MVI) citation:\n",
    "\n",
    "Baloloy, A.B., Blanco, A.C., Ana, R.R.C.S., Nadaoka, K., 2020,\n",
    "Development and application of a new mangrove vegetation index (MVI) for rapid and accurate mangrove mapping,\n",
    "ISPRS Journal of Photogrammetry and Remote Sensing, Vol. 166, pp. 95-117.\n",
    "https://doi.org/10.1016/j.isprsjprs.2020.06.001\n",
    "\"\"\""
   ]
  },
  {
   "cell_type": "code",
   "execution_count": null,
   "id": "505f5317-2771-40f2-907f-9637e5b331df",
   "metadata": {},
   "outputs": [],
   "source": [
    "# Code provided by Syam'ani (https://github.com/syamaniulm)"
   ]
  },
  {
   "cell_type": "code",
   "execution_count": null,
   "id": "fced3fa7-a9c6-4bfa-904b-c59b9a9ac327",
   "metadata": {},
   "outputs": [],
   "source": [
    "import ee"
   ]
  },
  {
   "cell_type": "code",
   "execution_count": null,
   "id": "f92fd1fc-9a48-45ab-b034-8dbc3dbf229e",
   "metadata": {},
   "outputs": [],
   "source": [
    "ee.Authenticate()"
   ]
  },
  {
   "cell_type": "code",
   "execution_count": null,
   "id": "b9f87087-5b49-407a-a082-25b964d96108",
   "metadata": {},
   "outputs": [],
   "source": [
    "# Initialize your Earth Engine cloud project\n",
    "\n",
    "ee.Initialize(project='ee-yourproject')"
   ]
  },
  {
   "cell_type": "code",
   "execution_count": null,
   "id": "847f11c9-0628-4893-a05a-e68b3156b0be",
   "metadata": {},
   "outputs": [],
   "source": [
    "# Access google drive and open a shapefile\n",
    "\n",
    "import geopandas as gpd\n",
    "from google.colab import drive\n",
    "\n",
    "drive.mount('/content/drive', force_remount=True)\n",
    "\n",
    "# Replace 'path/to/your/shapefile.shp' with the actual path to your shapefile in Google Drive\n",
    "shapefile_path = '/content/drive/My Drive/Your_folder/Your_shapefile.shp'\n",
    "\n",
    "# Open shapefile using Geopandas\n",
    "try:\n",
    "    gdf = gpd.read_file(shapefile_path)\n",
    "    gdf.plot()\n",
    "except FileNotFoundError:\n",
    "    print(f\"Error: Shapefile not found at {shapefile_path}\")\n",
    "except Exception as e:\n",
    "    print(f\"An error occurred: {e}\")"
   ]
  },
  {
   "cell_type": "code",
   "execution_count": null,
   "id": "26f291df-5a9f-46fb-b9d8-17d9074ab072",
   "metadata": {},
   "outputs": [],
   "source": [
    "# Converting shapefile into Earth Engine geometry\n",
    "\n",
    "import json\n",
    "\n",
    "region_js = json.loads(gdf.to_json())\n",
    "region_fc = ee.FeatureCollection(region_js)\n",
    "region = ee.Geometry(region_fc.geometry())"
   ]
  },
  {
   "cell_type": "code",
   "execution_count": null,
   "id": "f81dd7d9-44ee-4fe6-94c2-5ecfaf481090",
   "metadata": {},
   "outputs": [],
   "source": [
    "# Region center\n",
    "\n",
    "region_center = region.centroid().coordinates().getInfo()\n",
    "print(region_center)"
   ]
  },
  {
   "cell_type": "code",
   "execution_count": null,
   "id": "08d4a14b-6458-489f-977b-9385af8979e3",
   "metadata": {},
   "outputs": [],
   "source": [
    "# Determining parameters\n",
    "\n",
    "num_years = 6     # years, adjust to your needs\n",
    "step = 1          # year(s), adjust to your needs\n",
    "last_year = 2024  # adjust to your needs\n",
    "\n",
    "start_date = []\n",
    "end_date = []\n",
    "years = []\n",
    "\n",
    "for i in range(num_years):\n",
    "    year = last_year - num_years + i + step\n",
    "    start_date.append(f'{year}-01-01')\n",
    "    end_date.append(f'{year}-12-31')\n",
    "    years.append(year)\n",
    "\n",
    "print(start_date)\n",
    "print(end_date)\n",
    "print(years)"
   ]
  },
  {
   "cell_type": "code",
   "execution_count": null,
   "id": "1313b230-11be-4faf-814b-63a1e31d0c4f",
   "metadata": {},
   "outputs": [],
   "source": [
    "# Access multitempiral Sentinel-2 surface reflectance\n",
    "\n",
    "s2_col = ee.ImageCollection('COPERNICUS/S2_SR_HARMONIZED')\n",
    "\n",
    "s2_image_list = []\n",
    "\n",
    "for i in range(num_years):\n",
    "  dataset = s2_col.filterBounds(region) \\\n",
    "      .filterDate(start_date[i], end_date[i]) \\\n",
    "      .filter(ee.Filter.lt('CLOUDY_PIXEL_PERCENTAGE', 20))\n",
    "  s2_image_list.append(dataset.median())"
   ]
  },
  {
   "cell_type": "code",
   "execution_count": null,
   "id": "410d821b-0fb0-4887-b1e8-b31faa864fff",
   "metadata": {},
   "outputs": [],
   "source": [
    "# Calculating multitemporal Mangrove Vegetation Index (MVI)\n",
    "# Creating mangrove extent image\n",
    "\n",
    "mvi_list = []\n",
    "mgrv_list = []\n",
    "\n",
    "for i in range(num_years):\n",
    "  green = s2_image_list[i].select('B3')\n",
    "  nir = s2_image_list[i].select('B8')\n",
    "  swir1 = s2_image_list[i].select('B11')\n",
    "  mvi = (nir.subtract(green)).divide(swir1.subtract(green)).rename('MVI')\n",
    "  mask = mvi.gte(4.5).And(mvi.lte(16.5)).rename('Mangrove')\n",
    "  mvi = mvi.updateMask(mask)\n",
    "  mvi = mvi.clip(region)\n",
    "  mvi_list.append(mvi)\n",
    "  mgrv_list.append(mask)"
   ]
  },
  {
   "cell_type": "code",
   "execution_count": null,
   "id": "3d58d7e4-2ed1-4982-bbcf-bf4d58f003dd",
   "metadata": {},
   "outputs": [],
   "source": [
    "# Create geemap MVI timeseries\n",
    "\n",
    "import geemap\n",
    "\n",
    "# Create a list of dates corresponding to the MVI images\n",
    "dates = [f'{year}' for year in years]  # Or use actual dates if available\n",
    "\n",
    "# Visualization parameters\n",
    "vis_params = {\n",
    "    'min': 4.5,\n",
    "    'max': 16.5,\n",
    "    'palette': ['seagreen', 'darkgreen', 'darkblue']\n",
    "}\n",
    "\n",
    "# Create the MVI time series visualization using geemap\n",
    "Map = geemap.Map(basemap='Esri.WorldTopoMap')\n",
    "Map.centerObject(region, 11)\n",
    "\n",
    "# Create image collection from image list\n",
    "mvi_col = ee.ImageCollection.fromImages(mvi_list)\n",
    "\n",
    "# Create labels\n",
    "labels = [str(year) for year in years]\n",
    "\n",
    "# Add a layer control panel\n",
    "Map.add_time_slider(mvi_col, vis_params, labels=labels, time_interval=1)\n",
    "\n",
    "# Display the map\n",
    "Map"
   ]
  },
  {
   "cell_type": "code",
   "execution_count": null,
   "id": "d2b924c4-0032-4662-b270-9dd8720ec367",
   "metadata": {},
   "outputs": [],
   "source": [
    "# Mangrove area calculation\n",
    "\n",
    "for i in range(num_years):\n",
    "  area = mgrv_list[i].reduceRegion(\n",
    "      reducer=ee.Reducer.sum(),\n",
    "      geometry=region,\n",
    "      scale=10,\n",
    "      maxPixels=1e13\n",
    "  ).get('Mangrove').getInfo()\n",
    "  print(f'Mangrove area in {years[i]}: {round(area/100,2)} hectares')"
   ]
  }
 ],
 "metadata": {
  "kernelspec": {
   "display_name": "Python 3 (ipykernel)",
   "language": "python",
   "name": "python3"
  },
  "language_info": {
   "codemirror_mode": {
    "name": "ipython",
    "version": 3
   },
   "file_extension": ".py",
   "mimetype": "text/x-python",
   "name": "python",
   "nbconvert_exporter": "python",
   "pygments_lexer": "ipython3",
   "version": "3.9.20"
  }
 },
 "nbformat": 4,
 "nbformat_minor": 5
}
